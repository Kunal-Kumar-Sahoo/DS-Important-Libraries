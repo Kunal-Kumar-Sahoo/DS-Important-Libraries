{
  "nbformat": 4,
  "nbformat_minor": 0,
  "metadata": {
    "colab": {
      "provenance": []
    },
    "kernelspec": {
      "name": "python3",
      "display_name": "Python 3"
    },
    "language_info": {
      "name": "python"
    },
    "widgets": {
      "application/vnd.jupyter.widget-state+json": {
        "8d67b4a5915b4d2eb0ec919509712e00": {
          "model_module": "@jupyter-widgets/controls",
          "model_name": "HBoxModel",
          "model_module_version": "1.5.0",
          "state": {
            "_dom_classes": [],
            "_model_module": "@jupyter-widgets/controls",
            "_model_module_version": "1.5.0",
            "_model_name": "HBoxModel",
            "_view_count": null,
            "_view_module": "@jupyter-widgets/controls",
            "_view_module_version": "1.5.0",
            "_view_name": "HBoxView",
            "box_style": "",
            "children": [
              "IPY_MODEL_a704f572dae247d7b58976ce0b64eae6",
              "IPY_MODEL_6f3cf39345c04c8c8c74a671936a1424",
              "IPY_MODEL_a992abfb208b4ca9b5bfc5aada8511c8"
            ],
            "layout": "IPY_MODEL_3fc08b8d33d8401b8555b45f905a6f33"
          }
        },
        "a704f572dae247d7b58976ce0b64eae6": {
          "model_module": "@jupyter-widgets/controls",
          "model_name": "HTMLModel",
          "model_module_version": "1.5.0",
          "state": {
            "_dom_classes": [],
            "_model_module": "@jupyter-widgets/controls",
            "_model_module_version": "1.5.0",
            "_model_name": "HTMLModel",
            "_view_count": null,
            "_view_module": "@jupyter-widgets/controls",
            "_view_module_version": "1.5.0",
            "_view_name": "HTMLView",
            "description": "",
            "description_tooltip": null,
            "layout": "IPY_MODEL_3b7fe87a31fb4f4dbe08e18579084f36",
            "placeholder": "​",
            "style": "IPY_MODEL_98f66a54b4484b46a1c3cf95d9bbbb21",
            "value": "tokenizer_config.json: 100%"
          }
        },
        "6f3cf39345c04c8c8c74a671936a1424": {
          "model_module": "@jupyter-widgets/controls",
          "model_name": "FloatProgressModel",
          "model_module_version": "1.5.0",
          "state": {
            "_dom_classes": [],
            "_model_module": "@jupyter-widgets/controls",
            "_model_module_version": "1.5.0",
            "_model_name": "FloatProgressModel",
            "_view_count": null,
            "_view_module": "@jupyter-widgets/controls",
            "_view_module_version": "1.5.0",
            "_view_name": "ProgressView",
            "bar_style": "success",
            "description": "",
            "description_tooltip": null,
            "layout": "IPY_MODEL_aeed130b979e46b088c87ccdf28d42fe",
            "max": 28,
            "min": 0,
            "orientation": "horizontal",
            "style": "IPY_MODEL_52f41f2402de4c3b846ca53113921073",
            "value": 28
          }
        },
        "a992abfb208b4ca9b5bfc5aada8511c8": {
          "model_module": "@jupyter-widgets/controls",
          "model_name": "HTMLModel",
          "model_module_version": "1.5.0",
          "state": {
            "_dom_classes": [],
            "_model_module": "@jupyter-widgets/controls",
            "_model_module_version": "1.5.0",
            "_model_name": "HTMLModel",
            "_view_count": null,
            "_view_module": "@jupyter-widgets/controls",
            "_view_module_version": "1.5.0",
            "_view_name": "HTMLView",
            "description": "",
            "description_tooltip": null,
            "layout": "IPY_MODEL_45bd731d326b4a9b9b46a30d5fe097e3",
            "placeholder": "​",
            "style": "IPY_MODEL_f63c6edef97b46e49b8f42307b0af70b",
            "value": " 28.0/28.0 [00:00&lt;00:00, 550B/s]"
          }
        },
        "3fc08b8d33d8401b8555b45f905a6f33": {
          "model_module": "@jupyter-widgets/base",
          "model_name": "LayoutModel",
          "model_module_version": "1.2.0",
          "state": {
            "_model_module": "@jupyter-widgets/base",
            "_model_module_version": "1.2.0",
            "_model_name": "LayoutModel",
            "_view_count": null,
            "_view_module": "@jupyter-widgets/base",
            "_view_module_version": "1.2.0",
            "_view_name": "LayoutView",
            "align_content": null,
            "align_items": null,
            "align_self": null,
            "border": null,
            "bottom": null,
            "display": null,
            "flex": null,
            "flex_flow": null,
            "grid_area": null,
            "grid_auto_columns": null,
            "grid_auto_flow": null,
            "grid_auto_rows": null,
            "grid_column": null,
            "grid_gap": null,
            "grid_row": null,
            "grid_template_areas": null,
            "grid_template_columns": null,
            "grid_template_rows": null,
            "height": null,
            "justify_content": null,
            "justify_items": null,
            "left": null,
            "margin": null,
            "max_height": null,
            "max_width": null,
            "min_height": null,
            "min_width": null,
            "object_fit": null,
            "object_position": null,
            "order": null,
            "overflow": null,
            "overflow_x": null,
            "overflow_y": null,
            "padding": null,
            "right": null,
            "top": null,
            "visibility": null,
            "width": null
          }
        },
        "3b7fe87a31fb4f4dbe08e18579084f36": {
          "model_module": "@jupyter-widgets/base",
          "model_name": "LayoutModel",
          "model_module_version": "1.2.0",
          "state": {
            "_model_module": "@jupyter-widgets/base",
            "_model_module_version": "1.2.0",
            "_model_name": "LayoutModel",
            "_view_count": null,
            "_view_module": "@jupyter-widgets/base",
            "_view_module_version": "1.2.0",
            "_view_name": "LayoutView",
            "align_content": null,
            "align_items": null,
            "align_self": null,
            "border": null,
            "bottom": null,
            "display": null,
            "flex": null,
            "flex_flow": null,
            "grid_area": null,
            "grid_auto_columns": null,
            "grid_auto_flow": null,
            "grid_auto_rows": null,
            "grid_column": null,
            "grid_gap": null,
            "grid_row": null,
            "grid_template_areas": null,
            "grid_template_columns": null,
            "grid_template_rows": null,
            "height": null,
            "justify_content": null,
            "justify_items": null,
            "left": null,
            "margin": null,
            "max_height": null,
            "max_width": null,
            "min_height": null,
            "min_width": null,
            "object_fit": null,
            "object_position": null,
            "order": null,
            "overflow": null,
            "overflow_x": null,
            "overflow_y": null,
            "padding": null,
            "right": null,
            "top": null,
            "visibility": null,
            "width": null
          }
        },
        "98f66a54b4484b46a1c3cf95d9bbbb21": {
          "model_module": "@jupyter-widgets/controls",
          "model_name": "DescriptionStyleModel",
          "model_module_version": "1.5.0",
          "state": {
            "_model_module": "@jupyter-widgets/controls",
            "_model_module_version": "1.5.0",
            "_model_name": "DescriptionStyleModel",
            "_view_count": null,
            "_view_module": "@jupyter-widgets/base",
            "_view_module_version": "1.2.0",
            "_view_name": "StyleView",
            "description_width": ""
          }
        },
        "aeed130b979e46b088c87ccdf28d42fe": {
          "model_module": "@jupyter-widgets/base",
          "model_name": "LayoutModel",
          "model_module_version": "1.2.0",
          "state": {
            "_model_module": "@jupyter-widgets/base",
            "_model_module_version": "1.2.0",
            "_model_name": "LayoutModel",
            "_view_count": null,
            "_view_module": "@jupyter-widgets/base",
            "_view_module_version": "1.2.0",
            "_view_name": "LayoutView",
            "align_content": null,
            "align_items": null,
            "align_self": null,
            "border": null,
            "bottom": null,
            "display": null,
            "flex": null,
            "flex_flow": null,
            "grid_area": null,
            "grid_auto_columns": null,
            "grid_auto_flow": null,
            "grid_auto_rows": null,
            "grid_column": null,
            "grid_gap": null,
            "grid_row": null,
            "grid_template_areas": null,
            "grid_template_columns": null,
            "grid_template_rows": null,
            "height": null,
            "justify_content": null,
            "justify_items": null,
            "left": null,
            "margin": null,
            "max_height": null,
            "max_width": null,
            "min_height": null,
            "min_width": null,
            "object_fit": null,
            "object_position": null,
            "order": null,
            "overflow": null,
            "overflow_x": null,
            "overflow_y": null,
            "padding": null,
            "right": null,
            "top": null,
            "visibility": null,
            "width": null
          }
        },
        "52f41f2402de4c3b846ca53113921073": {
          "model_module": "@jupyter-widgets/controls",
          "model_name": "ProgressStyleModel",
          "model_module_version": "1.5.0",
          "state": {
            "_model_module": "@jupyter-widgets/controls",
            "_model_module_version": "1.5.0",
            "_model_name": "ProgressStyleModel",
            "_view_count": null,
            "_view_module": "@jupyter-widgets/base",
            "_view_module_version": "1.2.0",
            "_view_name": "StyleView",
            "bar_color": null,
            "description_width": ""
          }
        },
        "45bd731d326b4a9b9b46a30d5fe097e3": {
          "model_module": "@jupyter-widgets/base",
          "model_name": "LayoutModel",
          "model_module_version": "1.2.0",
          "state": {
            "_model_module": "@jupyter-widgets/base",
            "_model_module_version": "1.2.0",
            "_model_name": "LayoutModel",
            "_view_count": null,
            "_view_module": "@jupyter-widgets/base",
            "_view_module_version": "1.2.0",
            "_view_name": "LayoutView",
            "align_content": null,
            "align_items": null,
            "align_self": null,
            "border": null,
            "bottom": null,
            "display": null,
            "flex": null,
            "flex_flow": null,
            "grid_area": null,
            "grid_auto_columns": null,
            "grid_auto_flow": null,
            "grid_auto_rows": null,
            "grid_column": null,
            "grid_gap": null,
            "grid_row": null,
            "grid_template_areas": null,
            "grid_template_columns": null,
            "grid_template_rows": null,
            "height": null,
            "justify_content": null,
            "justify_items": null,
            "left": null,
            "margin": null,
            "max_height": null,
            "max_width": null,
            "min_height": null,
            "min_width": null,
            "object_fit": null,
            "object_position": null,
            "order": null,
            "overflow": null,
            "overflow_x": null,
            "overflow_y": null,
            "padding": null,
            "right": null,
            "top": null,
            "visibility": null,
            "width": null
          }
        },
        "f63c6edef97b46e49b8f42307b0af70b": {
          "model_module": "@jupyter-widgets/controls",
          "model_name": "DescriptionStyleModel",
          "model_module_version": "1.5.0",
          "state": {
            "_model_module": "@jupyter-widgets/controls",
            "_model_module_version": "1.5.0",
            "_model_name": "DescriptionStyleModel",
            "_view_count": null,
            "_view_module": "@jupyter-widgets/base",
            "_view_module_version": "1.2.0",
            "_view_name": "StyleView",
            "description_width": ""
          }
        },
        "7ac113db6ee54cc8b748caad9e17d769": {
          "model_module": "@jupyter-widgets/controls",
          "model_name": "HBoxModel",
          "model_module_version": "1.5.0",
          "state": {
            "_dom_classes": [],
            "_model_module": "@jupyter-widgets/controls",
            "_model_module_version": "1.5.0",
            "_model_name": "HBoxModel",
            "_view_count": null,
            "_view_module": "@jupyter-widgets/controls",
            "_view_module_version": "1.5.0",
            "_view_name": "HBoxView",
            "box_style": "",
            "children": [
              "IPY_MODEL_7ba8a566e06f438e9690fd31e1ad3272",
              "IPY_MODEL_3f2b106e66db46c88a6ff14cdaf2fafb",
              "IPY_MODEL_0b97084d9d4a409297206b6486ce4d90"
            ],
            "layout": "IPY_MODEL_a24436c998354cb990a0d80522eb81c5"
          }
        },
        "7ba8a566e06f438e9690fd31e1ad3272": {
          "model_module": "@jupyter-widgets/controls",
          "model_name": "HTMLModel",
          "model_module_version": "1.5.0",
          "state": {
            "_dom_classes": [],
            "_model_module": "@jupyter-widgets/controls",
            "_model_module_version": "1.5.0",
            "_model_name": "HTMLModel",
            "_view_count": null,
            "_view_module": "@jupyter-widgets/controls",
            "_view_module_version": "1.5.0",
            "_view_name": "HTMLView",
            "description": "",
            "description_tooltip": null,
            "layout": "IPY_MODEL_866b9a982ac74710a58bf338357834c5",
            "placeholder": "​",
            "style": "IPY_MODEL_2ce8d10ef2eb4e5dbf6eddabde31799c",
            "value": "config.json: 100%"
          }
        },
        "3f2b106e66db46c88a6ff14cdaf2fafb": {
          "model_module": "@jupyter-widgets/controls",
          "model_name": "FloatProgressModel",
          "model_module_version": "1.5.0",
          "state": {
            "_dom_classes": [],
            "_model_module": "@jupyter-widgets/controls",
            "_model_module_version": "1.5.0",
            "_model_name": "FloatProgressModel",
            "_view_count": null,
            "_view_module": "@jupyter-widgets/controls",
            "_view_module_version": "1.5.0",
            "_view_name": "ProgressView",
            "bar_style": "success",
            "description": "",
            "description_tooltip": null,
            "layout": "IPY_MODEL_92a98069e5784b418bed885357e92071",
            "max": 570,
            "min": 0,
            "orientation": "horizontal",
            "style": "IPY_MODEL_6657b7d81b21409e95a2cce53bb70c91",
            "value": 570
          }
        },
        "0b97084d9d4a409297206b6486ce4d90": {
          "model_module": "@jupyter-widgets/controls",
          "model_name": "HTMLModel",
          "model_module_version": "1.5.0",
          "state": {
            "_dom_classes": [],
            "_model_module": "@jupyter-widgets/controls",
            "_model_module_version": "1.5.0",
            "_model_name": "HTMLModel",
            "_view_count": null,
            "_view_module": "@jupyter-widgets/controls",
            "_view_module_version": "1.5.0",
            "_view_name": "HTMLView",
            "description": "",
            "description_tooltip": null,
            "layout": "IPY_MODEL_4b8fb67313704812986b32bf3ecfd2b9",
            "placeholder": "​",
            "style": "IPY_MODEL_9686c786926f49f99f86651e0d47f558",
            "value": " 570/570 [00:00&lt;00:00, 6.24kB/s]"
          }
        },
        "a24436c998354cb990a0d80522eb81c5": {
          "model_module": "@jupyter-widgets/base",
          "model_name": "LayoutModel",
          "model_module_version": "1.2.0",
          "state": {
            "_model_module": "@jupyter-widgets/base",
            "_model_module_version": "1.2.0",
            "_model_name": "LayoutModel",
            "_view_count": null,
            "_view_module": "@jupyter-widgets/base",
            "_view_module_version": "1.2.0",
            "_view_name": "LayoutView",
            "align_content": null,
            "align_items": null,
            "align_self": null,
            "border": null,
            "bottom": null,
            "display": null,
            "flex": null,
            "flex_flow": null,
            "grid_area": null,
            "grid_auto_columns": null,
            "grid_auto_flow": null,
            "grid_auto_rows": null,
            "grid_column": null,
            "grid_gap": null,
            "grid_row": null,
            "grid_template_areas": null,
            "grid_template_columns": null,
            "grid_template_rows": null,
            "height": null,
            "justify_content": null,
            "justify_items": null,
            "left": null,
            "margin": null,
            "max_height": null,
            "max_width": null,
            "min_height": null,
            "min_width": null,
            "object_fit": null,
            "object_position": null,
            "order": null,
            "overflow": null,
            "overflow_x": null,
            "overflow_y": null,
            "padding": null,
            "right": null,
            "top": null,
            "visibility": null,
            "width": null
          }
        },
        "866b9a982ac74710a58bf338357834c5": {
          "model_module": "@jupyter-widgets/base",
          "model_name": "LayoutModel",
          "model_module_version": "1.2.0",
          "state": {
            "_model_module": "@jupyter-widgets/base",
            "_model_module_version": "1.2.0",
            "_model_name": "LayoutModel",
            "_view_count": null,
            "_view_module": "@jupyter-widgets/base",
            "_view_module_version": "1.2.0",
            "_view_name": "LayoutView",
            "align_content": null,
            "align_items": null,
            "align_self": null,
            "border": null,
            "bottom": null,
            "display": null,
            "flex": null,
            "flex_flow": null,
            "grid_area": null,
            "grid_auto_columns": null,
            "grid_auto_flow": null,
            "grid_auto_rows": null,
            "grid_column": null,
            "grid_gap": null,
            "grid_row": null,
            "grid_template_areas": null,
            "grid_template_columns": null,
            "grid_template_rows": null,
            "height": null,
            "justify_content": null,
            "justify_items": null,
            "left": null,
            "margin": null,
            "max_height": null,
            "max_width": null,
            "min_height": null,
            "min_width": null,
            "object_fit": null,
            "object_position": null,
            "order": null,
            "overflow": null,
            "overflow_x": null,
            "overflow_y": null,
            "padding": null,
            "right": null,
            "top": null,
            "visibility": null,
            "width": null
          }
        },
        "2ce8d10ef2eb4e5dbf6eddabde31799c": {
          "model_module": "@jupyter-widgets/controls",
          "model_name": "DescriptionStyleModel",
          "model_module_version": "1.5.0",
          "state": {
            "_model_module": "@jupyter-widgets/controls",
            "_model_module_version": "1.5.0",
            "_model_name": "DescriptionStyleModel",
            "_view_count": null,
            "_view_module": "@jupyter-widgets/base",
            "_view_module_version": "1.2.0",
            "_view_name": "StyleView",
            "description_width": ""
          }
        },
        "92a98069e5784b418bed885357e92071": {
          "model_module": "@jupyter-widgets/base",
          "model_name": "LayoutModel",
          "model_module_version": "1.2.0",
          "state": {
            "_model_module": "@jupyter-widgets/base",
            "_model_module_version": "1.2.0",
            "_model_name": "LayoutModel",
            "_view_count": null,
            "_view_module": "@jupyter-widgets/base",
            "_view_module_version": "1.2.0",
            "_view_name": "LayoutView",
            "align_content": null,
            "align_items": null,
            "align_self": null,
            "border": null,
            "bottom": null,
            "display": null,
            "flex": null,
            "flex_flow": null,
            "grid_area": null,
            "grid_auto_columns": null,
            "grid_auto_flow": null,
            "grid_auto_rows": null,
            "grid_column": null,
            "grid_gap": null,
            "grid_row": null,
            "grid_template_areas": null,
            "grid_template_columns": null,
            "grid_template_rows": null,
            "height": null,
            "justify_content": null,
            "justify_items": null,
            "left": null,
            "margin": null,
            "max_height": null,
            "max_width": null,
            "min_height": null,
            "min_width": null,
            "object_fit": null,
            "object_position": null,
            "order": null,
            "overflow": null,
            "overflow_x": null,
            "overflow_y": null,
            "padding": null,
            "right": null,
            "top": null,
            "visibility": null,
            "width": null
          }
        },
        "6657b7d81b21409e95a2cce53bb70c91": {
          "model_module": "@jupyter-widgets/controls",
          "model_name": "ProgressStyleModel",
          "model_module_version": "1.5.0",
          "state": {
            "_model_module": "@jupyter-widgets/controls",
            "_model_module_version": "1.5.0",
            "_model_name": "ProgressStyleModel",
            "_view_count": null,
            "_view_module": "@jupyter-widgets/base",
            "_view_module_version": "1.2.0",
            "_view_name": "StyleView",
            "bar_color": null,
            "description_width": ""
          }
        },
        "4b8fb67313704812986b32bf3ecfd2b9": {
          "model_module": "@jupyter-widgets/base",
          "model_name": "LayoutModel",
          "model_module_version": "1.2.0",
          "state": {
            "_model_module": "@jupyter-widgets/base",
            "_model_module_version": "1.2.0",
            "_model_name": "LayoutModel",
            "_view_count": null,
            "_view_module": "@jupyter-widgets/base",
            "_view_module_version": "1.2.0",
            "_view_name": "LayoutView",
            "align_content": null,
            "align_items": null,
            "align_self": null,
            "border": null,
            "bottom": null,
            "display": null,
            "flex": null,
            "flex_flow": null,
            "grid_area": null,
            "grid_auto_columns": null,
            "grid_auto_flow": null,
            "grid_auto_rows": null,
            "grid_column": null,
            "grid_gap": null,
            "grid_row": null,
            "grid_template_areas": null,
            "grid_template_columns": null,
            "grid_template_rows": null,
            "height": null,
            "justify_content": null,
            "justify_items": null,
            "left": null,
            "margin": null,
            "max_height": null,
            "max_width": null,
            "min_height": null,
            "min_width": null,
            "object_fit": null,
            "object_position": null,
            "order": null,
            "overflow": null,
            "overflow_x": null,
            "overflow_y": null,
            "padding": null,
            "right": null,
            "top": null,
            "visibility": null,
            "width": null
          }
        },
        "9686c786926f49f99f86651e0d47f558": {
          "model_module": "@jupyter-widgets/controls",
          "model_name": "DescriptionStyleModel",
          "model_module_version": "1.5.0",
          "state": {
            "_model_module": "@jupyter-widgets/controls",
            "_model_module_version": "1.5.0",
            "_model_name": "DescriptionStyleModel",
            "_view_count": null,
            "_view_module": "@jupyter-widgets/base",
            "_view_module_version": "1.2.0",
            "_view_name": "StyleView",
            "description_width": ""
          }
        },
        "a7bc63220b974fcdb048d9442d0db7f6": {
          "model_module": "@jupyter-widgets/controls",
          "model_name": "HBoxModel",
          "model_module_version": "1.5.0",
          "state": {
            "_dom_classes": [],
            "_model_module": "@jupyter-widgets/controls",
            "_model_module_version": "1.5.0",
            "_model_name": "HBoxModel",
            "_view_count": null,
            "_view_module": "@jupyter-widgets/controls",
            "_view_module_version": "1.5.0",
            "_view_name": "HBoxView",
            "box_style": "",
            "children": [
              "IPY_MODEL_9e13c89d5c534055b7d9952484c5d679",
              "IPY_MODEL_552dfafc02ab410a9f9abff684f0e72a",
              "IPY_MODEL_7dd31da34fed484586e4a049a0b7c10a"
            ],
            "layout": "IPY_MODEL_e9c3208fc63a4b5f8dea97cef3136823"
          }
        },
        "9e13c89d5c534055b7d9952484c5d679": {
          "model_module": "@jupyter-widgets/controls",
          "model_name": "HTMLModel",
          "model_module_version": "1.5.0",
          "state": {
            "_dom_classes": [],
            "_model_module": "@jupyter-widgets/controls",
            "_model_module_version": "1.5.0",
            "_model_name": "HTMLModel",
            "_view_count": null,
            "_view_module": "@jupyter-widgets/controls",
            "_view_module_version": "1.5.0",
            "_view_name": "HTMLView",
            "description": "",
            "description_tooltip": null,
            "layout": "IPY_MODEL_99afe139305e4dbfb1a0ec109f127595",
            "placeholder": "​",
            "style": "IPY_MODEL_efa33a33ec1f4ffc94042d56061c3e9f",
            "value": "vocab.txt: 100%"
          }
        },
        "552dfafc02ab410a9f9abff684f0e72a": {
          "model_module": "@jupyter-widgets/controls",
          "model_name": "FloatProgressModel",
          "model_module_version": "1.5.0",
          "state": {
            "_dom_classes": [],
            "_model_module": "@jupyter-widgets/controls",
            "_model_module_version": "1.5.0",
            "_model_name": "FloatProgressModel",
            "_view_count": null,
            "_view_module": "@jupyter-widgets/controls",
            "_view_module_version": "1.5.0",
            "_view_name": "ProgressView",
            "bar_style": "success",
            "description": "",
            "description_tooltip": null,
            "layout": "IPY_MODEL_cd87c9f96deb49e9883fb1213ac7e37a",
            "max": 231508,
            "min": 0,
            "orientation": "horizontal",
            "style": "IPY_MODEL_319bc8885c3e48af888f5b469dc1b62f",
            "value": 231508
          }
        },
        "7dd31da34fed484586e4a049a0b7c10a": {
          "model_module": "@jupyter-widgets/controls",
          "model_name": "HTMLModel",
          "model_module_version": "1.5.0",
          "state": {
            "_dom_classes": [],
            "_model_module": "@jupyter-widgets/controls",
            "_model_module_version": "1.5.0",
            "_model_name": "HTMLModel",
            "_view_count": null,
            "_view_module": "@jupyter-widgets/controls",
            "_view_module_version": "1.5.0",
            "_view_name": "HTMLView",
            "description": "",
            "description_tooltip": null,
            "layout": "IPY_MODEL_139ffc8051994ed2bf952d59f750eed4",
            "placeholder": "​",
            "style": "IPY_MODEL_3402b3c30c8c4d35b88dfdbd18516f0b",
            "value": " 232k/232k [00:00&lt;00:00, 586kB/s]"
          }
        },
        "e9c3208fc63a4b5f8dea97cef3136823": {
          "model_module": "@jupyter-widgets/base",
          "model_name": "LayoutModel",
          "model_module_version": "1.2.0",
          "state": {
            "_model_module": "@jupyter-widgets/base",
            "_model_module_version": "1.2.0",
            "_model_name": "LayoutModel",
            "_view_count": null,
            "_view_module": "@jupyter-widgets/base",
            "_view_module_version": "1.2.0",
            "_view_name": "LayoutView",
            "align_content": null,
            "align_items": null,
            "align_self": null,
            "border": null,
            "bottom": null,
            "display": null,
            "flex": null,
            "flex_flow": null,
            "grid_area": null,
            "grid_auto_columns": null,
            "grid_auto_flow": null,
            "grid_auto_rows": null,
            "grid_column": null,
            "grid_gap": null,
            "grid_row": null,
            "grid_template_areas": null,
            "grid_template_columns": null,
            "grid_template_rows": null,
            "height": null,
            "justify_content": null,
            "justify_items": null,
            "left": null,
            "margin": null,
            "max_height": null,
            "max_width": null,
            "min_height": null,
            "min_width": null,
            "object_fit": null,
            "object_position": null,
            "order": null,
            "overflow": null,
            "overflow_x": null,
            "overflow_y": null,
            "padding": null,
            "right": null,
            "top": null,
            "visibility": null,
            "width": null
          }
        },
        "99afe139305e4dbfb1a0ec109f127595": {
          "model_module": "@jupyter-widgets/base",
          "model_name": "LayoutModel",
          "model_module_version": "1.2.0",
          "state": {
            "_model_module": "@jupyter-widgets/base",
            "_model_module_version": "1.2.0",
            "_model_name": "LayoutModel",
            "_view_count": null,
            "_view_module": "@jupyter-widgets/base",
            "_view_module_version": "1.2.0",
            "_view_name": "LayoutView",
            "align_content": null,
            "align_items": null,
            "align_self": null,
            "border": null,
            "bottom": null,
            "display": null,
            "flex": null,
            "flex_flow": null,
            "grid_area": null,
            "grid_auto_columns": null,
            "grid_auto_flow": null,
            "grid_auto_rows": null,
            "grid_column": null,
            "grid_gap": null,
            "grid_row": null,
            "grid_template_areas": null,
            "grid_template_columns": null,
            "grid_template_rows": null,
            "height": null,
            "justify_content": null,
            "justify_items": null,
            "left": null,
            "margin": null,
            "max_height": null,
            "max_width": null,
            "min_height": null,
            "min_width": null,
            "object_fit": null,
            "object_position": null,
            "order": null,
            "overflow": null,
            "overflow_x": null,
            "overflow_y": null,
            "padding": null,
            "right": null,
            "top": null,
            "visibility": null,
            "width": null
          }
        },
        "efa33a33ec1f4ffc94042d56061c3e9f": {
          "model_module": "@jupyter-widgets/controls",
          "model_name": "DescriptionStyleModel",
          "model_module_version": "1.5.0",
          "state": {
            "_model_module": "@jupyter-widgets/controls",
            "_model_module_version": "1.5.0",
            "_model_name": "DescriptionStyleModel",
            "_view_count": null,
            "_view_module": "@jupyter-widgets/base",
            "_view_module_version": "1.2.0",
            "_view_name": "StyleView",
            "description_width": ""
          }
        },
        "cd87c9f96deb49e9883fb1213ac7e37a": {
          "model_module": "@jupyter-widgets/base",
          "model_name": "LayoutModel",
          "model_module_version": "1.2.0",
          "state": {
            "_model_module": "@jupyter-widgets/base",
            "_model_module_version": "1.2.0",
            "_model_name": "LayoutModel",
            "_view_count": null,
            "_view_module": "@jupyter-widgets/base",
            "_view_module_version": "1.2.0",
            "_view_name": "LayoutView",
            "align_content": null,
            "align_items": null,
            "align_self": null,
            "border": null,
            "bottom": null,
            "display": null,
            "flex": null,
            "flex_flow": null,
            "grid_area": null,
            "grid_auto_columns": null,
            "grid_auto_flow": null,
            "grid_auto_rows": null,
            "grid_column": null,
            "grid_gap": null,
            "grid_row": null,
            "grid_template_areas": null,
            "grid_template_columns": null,
            "grid_template_rows": null,
            "height": null,
            "justify_content": null,
            "justify_items": null,
            "left": null,
            "margin": null,
            "max_height": null,
            "max_width": null,
            "min_height": null,
            "min_width": null,
            "object_fit": null,
            "object_position": null,
            "order": null,
            "overflow": null,
            "overflow_x": null,
            "overflow_y": null,
            "padding": null,
            "right": null,
            "top": null,
            "visibility": null,
            "width": null
          }
        },
        "319bc8885c3e48af888f5b469dc1b62f": {
          "model_module": "@jupyter-widgets/controls",
          "model_name": "ProgressStyleModel",
          "model_module_version": "1.5.0",
          "state": {
            "_model_module": "@jupyter-widgets/controls",
            "_model_module_version": "1.5.0",
            "_model_name": "ProgressStyleModel",
            "_view_count": null,
            "_view_module": "@jupyter-widgets/base",
            "_view_module_version": "1.2.0",
            "_view_name": "StyleView",
            "bar_color": null,
            "description_width": ""
          }
        },
        "139ffc8051994ed2bf952d59f750eed4": {
          "model_module": "@jupyter-widgets/base",
          "model_name": "LayoutModel",
          "model_module_version": "1.2.0",
          "state": {
            "_model_module": "@jupyter-widgets/base",
            "_model_module_version": "1.2.0",
            "_model_name": "LayoutModel",
            "_view_count": null,
            "_view_module": "@jupyter-widgets/base",
            "_view_module_version": "1.2.0",
            "_view_name": "LayoutView",
            "align_content": null,
            "align_items": null,
            "align_self": null,
            "border": null,
            "bottom": null,
            "display": null,
            "flex": null,
            "flex_flow": null,
            "grid_area": null,
            "grid_auto_columns": null,
            "grid_auto_flow": null,
            "grid_auto_rows": null,
            "grid_column": null,
            "grid_gap": null,
            "grid_row": null,
            "grid_template_areas": null,
            "grid_template_columns": null,
            "grid_template_rows": null,
            "height": null,
            "justify_content": null,
            "justify_items": null,
            "left": null,
            "margin": null,
            "max_height": null,
            "max_width": null,
            "min_height": null,
            "min_width": null,
            "object_fit": null,
            "object_position": null,
            "order": null,
            "overflow": null,
            "overflow_x": null,
            "overflow_y": null,
            "padding": null,
            "right": null,
            "top": null,
            "visibility": null,
            "width": null
          }
        },
        "3402b3c30c8c4d35b88dfdbd18516f0b": {
          "model_module": "@jupyter-widgets/controls",
          "model_name": "DescriptionStyleModel",
          "model_module_version": "1.5.0",
          "state": {
            "_model_module": "@jupyter-widgets/controls",
            "_model_module_version": "1.5.0",
            "_model_name": "DescriptionStyleModel",
            "_view_count": null,
            "_view_module": "@jupyter-widgets/base",
            "_view_module_version": "1.2.0",
            "_view_name": "StyleView",
            "description_width": ""
          }
        },
        "2c4c7f2742ab42c38bda421773af3a11": {
          "model_module": "@jupyter-widgets/controls",
          "model_name": "HBoxModel",
          "model_module_version": "1.5.0",
          "state": {
            "_dom_classes": [],
            "_model_module": "@jupyter-widgets/controls",
            "_model_module_version": "1.5.0",
            "_model_name": "HBoxModel",
            "_view_count": null,
            "_view_module": "@jupyter-widgets/controls",
            "_view_module_version": "1.5.0",
            "_view_name": "HBoxView",
            "box_style": "",
            "children": [
              "IPY_MODEL_956fe7ce88f94b8997d22750e1ed5401",
              "IPY_MODEL_3efab27e6e0248fd8a13728c13d90cdc",
              "IPY_MODEL_05c2b866b80f4ebd91cb27f7c102be2c"
            ],
            "layout": "IPY_MODEL_dd1912aac31341798cbc27010a00cf0c"
          }
        },
        "956fe7ce88f94b8997d22750e1ed5401": {
          "model_module": "@jupyter-widgets/controls",
          "model_name": "HTMLModel",
          "model_module_version": "1.5.0",
          "state": {
            "_dom_classes": [],
            "_model_module": "@jupyter-widgets/controls",
            "_model_module_version": "1.5.0",
            "_model_name": "HTMLModel",
            "_view_count": null,
            "_view_module": "@jupyter-widgets/controls",
            "_view_module_version": "1.5.0",
            "_view_name": "HTMLView",
            "description": "",
            "description_tooltip": null,
            "layout": "IPY_MODEL_170f6382d7244819b67623b076a6fda3",
            "placeholder": "​",
            "style": "IPY_MODEL_0f333ef1106c4c42a7ddcda62a446698",
            "value": "tokenizer.json: 100%"
          }
        },
        "3efab27e6e0248fd8a13728c13d90cdc": {
          "model_module": "@jupyter-widgets/controls",
          "model_name": "FloatProgressModel",
          "model_module_version": "1.5.0",
          "state": {
            "_dom_classes": [],
            "_model_module": "@jupyter-widgets/controls",
            "_model_module_version": "1.5.0",
            "_model_name": "FloatProgressModel",
            "_view_count": null,
            "_view_module": "@jupyter-widgets/controls",
            "_view_module_version": "1.5.0",
            "_view_name": "ProgressView",
            "bar_style": "success",
            "description": "",
            "description_tooltip": null,
            "layout": "IPY_MODEL_a655664afe724566817475ed91aa67e0",
            "max": 466062,
            "min": 0,
            "orientation": "horizontal",
            "style": "IPY_MODEL_3efb3a36c83046cf9611b5540f61a9c3",
            "value": 466062
          }
        },
        "05c2b866b80f4ebd91cb27f7c102be2c": {
          "model_module": "@jupyter-widgets/controls",
          "model_name": "HTMLModel",
          "model_module_version": "1.5.0",
          "state": {
            "_dom_classes": [],
            "_model_module": "@jupyter-widgets/controls",
            "_model_module_version": "1.5.0",
            "_model_name": "HTMLModel",
            "_view_count": null,
            "_view_module": "@jupyter-widgets/controls",
            "_view_module_version": "1.5.0",
            "_view_name": "HTMLView",
            "description": "",
            "description_tooltip": null,
            "layout": "IPY_MODEL_116029df4d274a1793102d932104918b",
            "placeholder": "​",
            "style": "IPY_MODEL_055703abc7494805a749f197a175a742",
            "value": " 466k/466k [00:00&lt;00:00, 798kB/s]"
          }
        },
        "dd1912aac31341798cbc27010a00cf0c": {
          "model_module": "@jupyter-widgets/base",
          "model_name": "LayoutModel",
          "model_module_version": "1.2.0",
          "state": {
            "_model_module": "@jupyter-widgets/base",
            "_model_module_version": "1.2.0",
            "_model_name": "LayoutModel",
            "_view_count": null,
            "_view_module": "@jupyter-widgets/base",
            "_view_module_version": "1.2.0",
            "_view_name": "LayoutView",
            "align_content": null,
            "align_items": null,
            "align_self": null,
            "border": null,
            "bottom": null,
            "display": null,
            "flex": null,
            "flex_flow": null,
            "grid_area": null,
            "grid_auto_columns": null,
            "grid_auto_flow": null,
            "grid_auto_rows": null,
            "grid_column": null,
            "grid_gap": null,
            "grid_row": null,
            "grid_template_areas": null,
            "grid_template_columns": null,
            "grid_template_rows": null,
            "height": null,
            "justify_content": null,
            "justify_items": null,
            "left": null,
            "margin": null,
            "max_height": null,
            "max_width": null,
            "min_height": null,
            "min_width": null,
            "object_fit": null,
            "object_position": null,
            "order": null,
            "overflow": null,
            "overflow_x": null,
            "overflow_y": null,
            "padding": null,
            "right": null,
            "top": null,
            "visibility": null,
            "width": null
          }
        },
        "170f6382d7244819b67623b076a6fda3": {
          "model_module": "@jupyter-widgets/base",
          "model_name": "LayoutModel",
          "model_module_version": "1.2.0",
          "state": {
            "_model_module": "@jupyter-widgets/base",
            "_model_module_version": "1.2.0",
            "_model_name": "LayoutModel",
            "_view_count": null,
            "_view_module": "@jupyter-widgets/base",
            "_view_module_version": "1.2.0",
            "_view_name": "LayoutView",
            "align_content": null,
            "align_items": null,
            "align_self": null,
            "border": null,
            "bottom": null,
            "display": null,
            "flex": null,
            "flex_flow": null,
            "grid_area": null,
            "grid_auto_columns": null,
            "grid_auto_flow": null,
            "grid_auto_rows": null,
            "grid_column": null,
            "grid_gap": null,
            "grid_row": null,
            "grid_template_areas": null,
            "grid_template_columns": null,
            "grid_template_rows": null,
            "height": null,
            "justify_content": null,
            "justify_items": null,
            "left": null,
            "margin": null,
            "max_height": null,
            "max_width": null,
            "min_height": null,
            "min_width": null,
            "object_fit": null,
            "object_position": null,
            "order": null,
            "overflow": null,
            "overflow_x": null,
            "overflow_y": null,
            "padding": null,
            "right": null,
            "top": null,
            "visibility": null,
            "width": null
          }
        },
        "0f333ef1106c4c42a7ddcda62a446698": {
          "model_module": "@jupyter-widgets/controls",
          "model_name": "DescriptionStyleModel",
          "model_module_version": "1.5.0",
          "state": {
            "_model_module": "@jupyter-widgets/controls",
            "_model_module_version": "1.5.0",
            "_model_name": "DescriptionStyleModel",
            "_view_count": null,
            "_view_module": "@jupyter-widgets/base",
            "_view_module_version": "1.2.0",
            "_view_name": "StyleView",
            "description_width": ""
          }
        },
        "a655664afe724566817475ed91aa67e0": {
          "model_module": "@jupyter-widgets/base",
          "model_name": "LayoutModel",
          "model_module_version": "1.2.0",
          "state": {
            "_model_module": "@jupyter-widgets/base",
            "_model_module_version": "1.2.0",
            "_model_name": "LayoutModel",
            "_view_count": null,
            "_view_module": "@jupyter-widgets/base",
            "_view_module_version": "1.2.0",
            "_view_name": "LayoutView",
            "align_content": null,
            "align_items": null,
            "align_self": null,
            "border": null,
            "bottom": null,
            "display": null,
            "flex": null,
            "flex_flow": null,
            "grid_area": null,
            "grid_auto_columns": null,
            "grid_auto_flow": null,
            "grid_auto_rows": null,
            "grid_column": null,
            "grid_gap": null,
            "grid_row": null,
            "grid_template_areas": null,
            "grid_template_columns": null,
            "grid_template_rows": null,
            "height": null,
            "justify_content": null,
            "justify_items": null,
            "left": null,
            "margin": null,
            "max_height": null,
            "max_width": null,
            "min_height": null,
            "min_width": null,
            "object_fit": null,
            "object_position": null,
            "order": null,
            "overflow": null,
            "overflow_x": null,
            "overflow_y": null,
            "padding": null,
            "right": null,
            "top": null,
            "visibility": null,
            "width": null
          }
        },
        "3efb3a36c83046cf9611b5540f61a9c3": {
          "model_module": "@jupyter-widgets/controls",
          "model_name": "ProgressStyleModel",
          "model_module_version": "1.5.0",
          "state": {
            "_model_module": "@jupyter-widgets/controls",
            "_model_module_version": "1.5.0",
            "_model_name": "ProgressStyleModel",
            "_view_count": null,
            "_view_module": "@jupyter-widgets/base",
            "_view_module_version": "1.2.0",
            "_view_name": "StyleView",
            "bar_color": null,
            "description_width": ""
          }
        },
        "116029df4d274a1793102d932104918b": {
          "model_module": "@jupyter-widgets/base",
          "model_name": "LayoutModel",
          "model_module_version": "1.2.0",
          "state": {
            "_model_module": "@jupyter-widgets/base",
            "_model_module_version": "1.2.0",
            "_model_name": "LayoutModel",
            "_view_count": null,
            "_view_module": "@jupyter-widgets/base",
            "_view_module_version": "1.2.0",
            "_view_name": "LayoutView",
            "align_content": null,
            "align_items": null,
            "align_self": null,
            "border": null,
            "bottom": null,
            "display": null,
            "flex": null,
            "flex_flow": null,
            "grid_area": null,
            "grid_auto_columns": null,
            "grid_auto_flow": null,
            "grid_auto_rows": null,
            "grid_column": null,
            "grid_gap": null,
            "grid_row": null,
            "grid_template_areas": null,
            "grid_template_columns": null,
            "grid_template_rows": null,
            "height": null,
            "justify_content": null,
            "justify_items": null,
            "left": null,
            "margin": null,
            "max_height": null,
            "max_width": null,
            "min_height": null,
            "min_width": null,
            "object_fit": null,
            "object_position": null,
            "order": null,
            "overflow": null,
            "overflow_x": null,
            "overflow_y": null,
            "padding": null,
            "right": null,
            "top": null,
            "visibility": null,
            "width": null
          }
        },
        "055703abc7494805a749f197a175a742": {
          "model_module": "@jupyter-widgets/controls",
          "model_name": "DescriptionStyleModel",
          "model_module_version": "1.5.0",
          "state": {
            "_model_module": "@jupyter-widgets/controls",
            "_model_module_version": "1.5.0",
            "_model_name": "DescriptionStyleModel",
            "_view_count": null,
            "_view_module": "@jupyter-widgets/base",
            "_view_module_version": "1.2.0",
            "_view_name": "StyleView",
            "description_width": ""
          }
        },
        "08d58af8adb244e89fbff2632820af57": {
          "model_module": "@jupyter-widgets/controls",
          "model_name": "HBoxModel",
          "model_module_version": "1.5.0",
          "state": {
            "_dom_classes": [],
            "_model_module": "@jupyter-widgets/controls",
            "_model_module_version": "1.5.0",
            "_model_name": "HBoxModel",
            "_view_count": null,
            "_view_module": "@jupyter-widgets/controls",
            "_view_module_version": "1.5.0",
            "_view_name": "HBoxView",
            "box_style": "",
            "children": [
              "IPY_MODEL_49a56eec376441c498474eb7350d56d4",
              "IPY_MODEL_8337df5b2cdb45009a56bfb9fc7cd7b8",
              "IPY_MODEL_5abfd5a3b8bb4b7599f72dab553ec8dd"
            ],
            "layout": "IPY_MODEL_2c3b566f94734a968a188a53444453b2"
          }
        },
        "49a56eec376441c498474eb7350d56d4": {
          "model_module": "@jupyter-widgets/controls",
          "model_name": "HTMLModel",
          "model_module_version": "1.5.0",
          "state": {
            "_dom_classes": [],
            "_model_module": "@jupyter-widgets/controls",
            "_model_module_version": "1.5.0",
            "_model_name": "HTMLModel",
            "_view_count": null,
            "_view_module": "@jupyter-widgets/controls",
            "_view_module_version": "1.5.0",
            "_view_name": "HTMLView",
            "description": "",
            "description_tooltip": null,
            "layout": "IPY_MODEL_2f9896b8ea074d9792d6f52e1d7fab57",
            "placeholder": "​",
            "style": "IPY_MODEL_cfe625d101514ae7888d392afd648ef1",
            "value": "model.safetensors: 100%"
          }
        },
        "8337df5b2cdb45009a56bfb9fc7cd7b8": {
          "model_module": "@jupyter-widgets/controls",
          "model_name": "FloatProgressModel",
          "model_module_version": "1.5.0",
          "state": {
            "_dom_classes": [],
            "_model_module": "@jupyter-widgets/controls",
            "_model_module_version": "1.5.0",
            "_model_name": "FloatProgressModel",
            "_view_count": null,
            "_view_module": "@jupyter-widgets/controls",
            "_view_module_version": "1.5.0",
            "_view_name": "ProgressView",
            "bar_style": "success",
            "description": "",
            "description_tooltip": null,
            "layout": "IPY_MODEL_c372fded3d31498b9a2a62c8d1e34db0",
            "max": 440449768,
            "min": 0,
            "orientation": "horizontal",
            "style": "IPY_MODEL_deec3327d6fa4d1db7df366702249fce",
            "value": 440449768
          }
        },
        "5abfd5a3b8bb4b7599f72dab553ec8dd": {
          "model_module": "@jupyter-widgets/controls",
          "model_name": "HTMLModel",
          "model_module_version": "1.5.0",
          "state": {
            "_dom_classes": [],
            "_model_module": "@jupyter-widgets/controls",
            "_model_module_version": "1.5.0",
            "_model_name": "HTMLModel",
            "_view_count": null,
            "_view_module": "@jupyter-widgets/controls",
            "_view_module_version": "1.5.0",
            "_view_name": "HTMLView",
            "description": "",
            "description_tooltip": null,
            "layout": "IPY_MODEL_4daa0004d08046f79731ef81ad2430bb",
            "placeholder": "​",
            "style": "IPY_MODEL_11504ae91cb544679e764b35fbf18ff8",
            "value": " 440M/440M [00:06&lt;00:00, 75.8MB/s]"
          }
        },
        "2c3b566f94734a968a188a53444453b2": {
          "model_module": "@jupyter-widgets/base",
          "model_name": "LayoutModel",
          "model_module_version": "1.2.0",
          "state": {
            "_model_module": "@jupyter-widgets/base",
            "_model_module_version": "1.2.0",
            "_model_name": "LayoutModel",
            "_view_count": null,
            "_view_module": "@jupyter-widgets/base",
            "_view_module_version": "1.2.0",
            "_view_name": "LayoutView",
            "align_content": null,
            "align_items": null,
            "align_self": null,
            "border": null,
            "bottom": null,
            "display": null,
            "flex": null,
            "flex_flow": null,
            "grid_area": null,
            "grid_auto_columns": null,
            "grid_auto_flow": null,
            "grid_auto_rows": null,
            "grid_column": null,
            "grid_gap": null,
            "grid_row": null,
            "grid_template_areas": null,
            "grid_template_columns": null,
            "grid_template_rows": null,
            "height": null,
            "justify_content": null,
            "justify_items": null,
            "left": null,
            "margin": null,
            "max_height": null,
            "max_width": null,
            "min_height": null,
            "min_width": null,
            "object_fit": null,
            "object_position": null,
            "order": null,
            "overflow": null,
            "overflow_x": null,
            "overflow_y": null,
            "padding": null,
            "right": null,
            "top": null,
            "visibility": null,
            "width": null
          }
        },
        "2f9896b8ea074d9792d6f52e1d7fab57": {
          "model_module": "@jupyter-widgets/base",
          "model_name": "LayoutModel",
          "model_module_version": "1.2.0",
          "state": {
            "_model_module": "@jupyter-widgets/base",
            "_model_module_version": "1.2.0",
            "_model_name": "LayoutModel",
            "_view_count": null,
            "_view_module": "@jupyter-widgets/base",
            "_view_module_version": "1.2.0",
            "_view_name": "LayoutView",
            "align_content": null,
            "align_items": null,
            "align_self": null,
            "border": null,
            "bottom": null,
            "display": null,
            "flex": null,
            "flex_flow": null,
            "grid_area": null,
            "grid_auto_columns": null,
            "grid_auto_flow": null,
            "grid_auto_rows": null,
            "grid_column": null,
            "grid_gap": null,
            "grid_row": null,
            "grid_template_areas": null,
            "grid_template_columns": null,
            "grid_template_rows": null,
            "height": null,
            "justify_content": null,
            "justify_items": null,
            "left": null,
            "margin": null,
            "max_height": null,
            "max_width": null,
            "min_height": null,
            "min_width": null,
            "object_fit": null,
            "object_position": null,
            "order": null,
            "overflow": null,
            "overflow_x": null,
            "overflow_y": null,
            "padding": null,
            "right": null,
            "top": null,
            "visibility": null,
            "width": null
          }
        },
        "cfe625d101514ae7888d392afd648ef1": {
          "model_module": "@jupyter-widgets/controls",
          "model_name": "DescriptionStyleModel",
          "model_module_version": "1.5.0",
          "state": {
            "_model_module": "@jupyter-widgets/controls",
            "_model_module_version": "1.5.0",
            "_model_name": "DescriptionStyleModel",
            "_view_count": null,
            "_view_module": "@jupyter-widgets/base",
            "_view_module_version": "1.2.0",
            "_view_name": "StyleView",
            "description_width": ""
          }
        },
        "c372fded3d31498b9a2a62c8d1e34db0": {
          "model_module": "@jupyter-widgets/base",
          "model_name": "LayoutModel",
          "model_module_version": "1.2.0",
          "state": {
            "_model_module": "@jupyter-widgets/base",
            "_model_module_version": "1.2.0",
            "_model_name": "LayoutModel",
            "_view_count": null,
            "_view_module": "@jupyter-widgets/base",
            "_view_module_version": "1.2.0",
            "_view_name": "LayoutView",
            "align_content": null,
            "align_items": null,
            "align_self": null,
            "border": null,
            "bottom": null,
            "display": null,
            "flex": null,
            "flex_flow": null,
            "grid_area": null,
            "grid_auto_columns": null,
            "grid_auto_flow": null,
            "grid_auto_rows": null,
            "grid_column": null,
            "grid_gap": null,
            "grid_row": null,
            "grid_template_areas": null,
            "grid_template_columns": null,
            "grid_template_rows": null,
            "height": null,
            "justify_content": null,
            "justify_items": null,
            "left": null,
            "margin": null,
            "max_height": null,
            "max_width": null,
            "min_height": null,
            "min_width": null,
            "object_fit": null,
            "object_position": null,
            "order": null,
            "overflow": null,
            "overflow_x": null,
            "overflow_y": null,
            "padding": null,
            "right": null,
            "top": null,
            "visibility": null,
            "width": null
          }
        },
        "deec3327d6fa4d1db7df366702249fce": {
          "model_module": "@jupyter-widgets/controls",
          "model_name": "ProgressStyleModel",
          "model_module_version": "1.5.0",
          "state": {
            "_model_module": "@jupyter-widgets/controls",
            "_model_module_version": "1.5.0",
            "_model_name": "ProgressStyleModel",
            "_view_count": null,
            "_view_module": "@jupyter-widgets/base",
            "_view_module_version": "1.2.0",
            "_view_name": "StyleView",
            "bar_color": null,
            "description_width": ""
          }
        },
        "4daa0004d08046f79731ef81ad2430bb": {
          "model_module": "@jupyter-widgets/base",
          "model_name": "LayoutModel",
          "model_module_version": "1.2.0",
          "state": {
            "_model_module": "@jupyter-widgets/base",
            "_model_module_version": "1.2.0",
            "_model_name": "LayoutModel",
            "_view_count": null,
            "_view_module": "@jupyter-widgets/base",
            "_view_module_version": "1.2.0",
            "_view_name": "LayoutView",
            "align_content": null,
            "align_items": null,
            "align_self": null,
            "border": null,
            "bottom": null,
            "display": null,
            "flex": null,
            "flex_flow": null,
            "grid_area": null,
            "grid_auto_columns": null,
            "grid_auto_flow": null,
            "grid_auto_rows": null,
            "grid_column": null,
            "grid_gap": null,
            "grid_row": null,
            "grid_template_areas": null,
            "grid_template_columns": null,
            "grid_template_rows": null,
            "height": null,
            "justify_content": null,
            "justify_items": null,
            "left": null,
            "margin": null,
            "max_height": null,
            "max_width": null,
            "min_height": null,
            "min_width": null,
            "object_fit": null,
            "object_position": null,
            "order": null,
            "overflow": null,
            "overflow_x": null,
            "overflow_y": null,
            "padding": null,
            "right": null,
            "top": null,
            "visibility": null,
            "width": null
          }
        },
        "11504ae91cb544679e764b35fbf18ff8": {
          "model_module": "@jupyter-widgets/controls",
          "model_name": "DescriptionStyleModel",
          "model_module_version": "1.5.0",
          "state": {
            "_model_module": "@jupyter-widgets/controls",
            "_model_module_version": "1.5.0",
            "_model_name": "DescriptionStyleModel",
            "_view_count": null,
            "_view_module": "@jupyter-widgets/base",
            "_view_module_version": "1.2.0",
            "_view_name": "StyleView",
            "description_width": ""
          }
        }
      }
    }
  },
  "cells": [
    {
      "cell_type": "markdown",
      "source": [
        "# A Tutorial on Vector Databases"
      ],
      "metadata": {
        "id": "NlO5VMLSV21K"
      }
    },
    {
      "cell_type": "markdown",
      "source": [
        "### What are LLMs?\n",
        "\n",
        "Large Language Models (LLMs) are foundational machine learning models that use deep learning algorithms to process and understand natural language. These models are trained on massive amounts of text data to learn patterns and entity relationships in the language. LLMs can perform many types of language tasks, such as translating languages, analyzing sentiments, chatbot conversations, and more. They can understand complex textual data, identify entities and relationships between them, and generate new text that is coherent and grammatically accurate."
      ],
      "metadata": {
        "id": "tOdBDvAzNB2l"
      }
    },
    {
      "cell_type": "markdown",
      "source": [
        "### How do LLMs work?\n",
        "\n",
        "LLMs are trained using a large amount of data, often terabytes, even petabytes, with billions or trillions of parameters, enabling them to predict and generate relevant responses based on the user’s prompts or queries. They process input data through word embeddings, self-attention layers, and feedforward networks to generate meaningful text"
      ],
      "metadata": {
        "id": "b7Vg7oWVVa2I"
      }
    },
    {
      "cell_type": "markdown",
      "source": [
        "### LLMs and Vector Databases\n",
        "\n",
        "Large Language Models (LLMs) are being utilized or integrated in many parts of industry, such as e-commerce, travel, search, content creation, and finance. These models rely on a relatively newer type of database, known as a vector database, which stores a numerical representation of text, images, videos, and other data in a binary representation called embeddings. This section highlights the fundamentals of vector databases and embeddings and, more significantly, focuses on how to use them to integrate with LLM applications.\n",
        "\n",
        "A vector database is a database that stores and searches for embeddings using high-dimensional space. These vectors are numerical representations of a data’s features or attributes. Using algorithms that calculate the distance or similarity between vectors in a high-dimensional space, vector databases can quickly and efficiently retrieve similar data. Unlike traditional scalar-based databases that store data in rows or columns and use exact matching or keyword-based search methods, vector databases operate differently. They use vector databases to search and compare a large collection of vectors in a very short amount of time (order of milliseconds) using techniques such as Approximate Nearest Neighbors (ANN).\n",
        "\n",
        "![image.png](data:image/png;base64,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)"
      ],
      "metadata": {
        "id": "tthFQv2uVkfD"
      }
    },
    {
      "cell_type": "markdown",
      "source": [
        "## A Quick Tutorial on Embeddings\n"
      ],
      "metadata": {
        "id": "qVH1nyHWVVa2"
      }
    },
    {
      "cell_type": "markdown",
      "source": [
        "AI models generate embeddings by inputting raw data such as text, video, images to a vector embedding library such as word2vec and In the context of AI and machine learning, these features represent different dimensions of the data that are essential for understanding patterns relationships, and underlying structures.\n",
        "\n"
      ],
      "metadata": {
        "id": "hdcie-lbWj8c"
      }
    },
    {
      "cell_type": "markdown",
      "source": [
        "Here is an example of how to generate word embeddings using word2vec.\n"
      ],
      "metadata": {
        "id": "SPb8EE6BWnAd"
      }
    },
    {
      "cell_type": "code",
      "source": [
        "!pip install gensim"
      ],
      "metadata": {
        "colab": {
          "base_uri": "https://localhost:8080/"
        },
        "id": "OvwvztBja7VL",
        "outputId": "88680563-09c7-47be-dd31-a5c974f9de2c"
      },
      "execution_count": 3,
      "outputs": [
        {
          "output_type": "stream",
          "name": "stdout",
          "text": [
            "Requirement already satisfied: gensim in /usr/local/lib/python3.10/dist-packages (4.3.2)\n",
            "Requirement already satisfied: numpy>=1.18.5 in /usr/local/lib/python3.10/dist-packages (from gensim) (1.23.5)\n",
            "Requirement already satisfied: scipy>=1.7.0 in /usr/local/lib/python3.10/dist-packages (from gensim) (1.11.3)\n",
            "Requirement already satisfied: smart-open>=1.8.1 in /usr/local/lib/python3.10/dist-packages (from gensim) (6.4.0)\n"
          ]
        }
      ]
    },
    {
      "cell_type": "code",
      "source": [
        "!pip install python-Levenshtein"
      ],
      "metadata": {
        "colab": {
          "base_uri": "https://localhost:8080/"
        },
        "id": "r8F8wUk4bNCL",
        "outputId": "5c1be54a-89a9-486a-c031-024acf1ce780"
      },
      "execution_count": 5,
      "outputs": [
        {
          "output_type": "stream",
          "name": "stdout",
          "text": [
            "Collecting python-Levenshtein\n",
            "  Downloading python_Levenshtein-0.23.0-py3-none-any.whl (9.4 kB)\n",
            "Collecting Levenshtein==0.23.0 (from python-Levenshtein)\n",
            "  Downloading Levenshtein-0.23.0-cp310-cp310-manylinux_2_17_x86_64.manylinux2014_x86_64.whl (169 kB)\n",
            "\u001b[2K     \u001b[90m━━━━━━━━━━━━━━━━━━━━━━━━━━━━━━━━━━━━━━━━\u001b[0m \u001b[32m169.4/169.4 kB\u001b[0m \u001b[31m3.8 MB/s\u001b[0m eta \u001b[36m0:00:00\u001b[0m\n",
            "\u001b[?25hCollecting rapidfuzz<4.0.0,>=3.1.0 (from Levenshtein==0.23.0->python-Levenshtein)\n",
            "  Downloading rapidfuzz-3.5.2-cp310-cp310-manylinux_2_17_x86_64.manylinux2014_x86_64.whl (3.3 MB)\n",
            "\u001b[2K     \u001b[90m━━━━━━━━━━━━━━━━━━━━━━━━━━━━━━━━━━━━━━━━\u001b[0m \u001b[32m3.3/3.3 MB\u001b[0m \u001b[31m47.2 MB/s\u001b[0m eta \u001b[36m0:00:00\u001b[0m\n",
            "\u001b[?25hInstalling collected packages: rapidfuzz, Levenshtein, python-Levenshtein\n",
            "Successfully installed Levenshtein-0.23.0 python-Levenshtein-0.23.0 rapidfuzz-3.5.2\n"
          ]
        }
      ]
    },
    {
      "cell_type": "code",
      "source": [
        "import pandas as pd"
      ],
      "metadata": {
        "id": "_2PQ9Ggkbd58"
      },
      "execution_count": 6,
      "outputs": []
    },
    {
      "cell_type": "code",
      "source": [
        "import gensim"
      ],
      "metadata": {
        "id": "8P6jOPShdIwm"
      },
      "execution_count": 7,
      "outputs": []
    },
    {
      "cell_type": "code",
      "source": [
        "!gunzip '/content/reviews_Cell_Phones_and_Accessories_5.json.gz'"
      ],
      "metadata": {
        "colab": {
          "base_uri": "https://localhost:8080/"
        },
        "id": "NuzsYvJshAHB",
        "outputId": "9a11208d-f1e9-42a8-c629-d216b3f34393"
      },
      "execution_count": 19,
      "outputs": [
        {
          "output_type": "stream",
          "name": "stdout",
          "text": [
            "gzip: /content/reviews_Cell_Phones_and_Accessories_5.json.gz: No such file or directory\n"
          ]
        }
      ]
    },
    {
      "cell_type": "markdown",
      "source": [
        "Simple Preprocessing & Tokenization\n",
        "The first thing to do for any data science task is to clean the data. For NLP, we apply various processing like converting all the words to lower case, trimming spaces, removing punctuations. This is something we will do over here too.\n",
        "\n",
        "Additionally, we can also remove stop words like 'and', 'or', 'is', 'the', 'a', 'an' and convert words to their root forms like 'running' to 'run'."
      ],
      "metadata": {
        "id": "EcN0njMKcmYD"
      }
    },
    {
      "cell_type": "code",
      "source": [
        "df = pd.read_json(\"reviews_Cell_Phones_and_Accessories_5.json\", lines=True)\n",
        "df"
      ],
      "metadata": {
        "colab": {
          "base_uri": "https://localhost:8080/",
          "height": 1000
        },
        "id": "tOCZ2PeebUd0",
        "outputId": "55a58132-dce2-4617-a8f4-78f105983e8b"
      },
      "execution_count": 20,
      "outputs": [
        {
          "output_type": "execute_result",
          "data": {
            "text/plain": [
              "            reviewerID        asin       reviewerName helpful  \\\n",
              "0       A30TL5EWN6DFXT  120401325X          christina  [0, 0]   \n",
              "1        ASY55RVNIL0UD  120401325X           emily l.  [0, 0]   \n",
              "2       A2TMXE2AFO7ONB  120401325X              Erica  [0, 0]   \n",
              "3        AWJ0WZQYMYFQ4  120401325X                 JM  [4, 4]   \n",
              "4        ATX7CZYFXI1KW  120401325X   patrice m rogoza  [2, 3]   \n",
              "...                ...         ...                ...     ...   \n",
              "194434  A1YMNTFLNDYQ1F  B00LORXVUE    eyeused2loveher  [0, 0]   \n",
              "194435  A15TX8B2L8B20S  B00LORXVUE       Jon Davidson  [0, 0]   \n",
              "194436  A3JI7QRZO1QG8X  B00LORXVUE  Joyce M. Davidson  [0, 0]   \n",
              "194437  A1NHB2VC68YQNM  B00LORXVUE     Nurse Farrugia  [0, 0]   \n",
              "194438  A1AG6U022WHXBF  B00LORXVUE     Trisha Crocker  [0, 0]   \n",
              "\n",
              "                                               reviewText  overall  \\\n",
              "0       They look good and stick good! I just don't li...        4   \n",
              "1       These stickers work like the review says they ...        5   \n",
              "2       These are awesome and make my phone look so st...        5   \n",
              "3       Item arrived in great time and was in perfect ...        4   \n",
              "4       awesome! stays on, and looks great. can be use...        5   \n",
              "...                                                   ...      ...   \n",
              "194434  Works great just like my original one. I reall...        5   \n",
              "194435  Great product. Great packaging. High quality a...        5   \n",
              "194436  This is a great cable, just as good as the mor...        5   \n",
              "194437  I really like it becasue it works well with my...        5   \n",
              "194438  product as described, I have wasted a lot of m...        5   \n",
              "\n",
              "                                                  summary  unixReviewTime  \\\n",
              "0                                              Looks Good      1400630400   \n",
              "1                                   Really great product.      1389657600   \n",
              "2                                          LOVE LOVE LOVE      1403740800   \n",
              "3                                                   Cute!      1382313600   \n",
              "4               leopard home button sticker for iphone 4s      1359849600   \n",
              "...                                                   ...             ...   \n",
              "194434                           This works just perfect!      1405900800   \n",
              "194435           Great replacement cable. Apple certified      1405900800   \n",
              "194436                                       Real quality      1405900800   \n",
              "194437  I really like it becasue it works well with my...      1405814400   \n",
              "194438              I have wasted a lot of money on cords      1405900800   \n",
              "\n",
              "         reviewTime  \n",
              "0       05 21, 2014  \n",
              "1       01 14, 2014  \n",
              "2       06 26, 2014  \n",
              "3       10 21, 2013  \n",
              "4        02 3, 2013  \n",
              "...             ...  \n",
              "194434  07 21, 2014  \n",
              "194435  07 21, 2014  \n",
              "194436  07 21, 2014  \n",
              "194437  07 20, 2014  \n",
              "194438  07 21, 2014  \n",
              "\n",
              "[194439 rows x 9 columns]"
            ],
            "text/html": [
              "\n",
              "  <div id=\"df-93125236-cff2-452a-b2c4-dfd4be970553\" class=\"colab-df-container\">\n",
              "    <div>\n",
              "<style scoped>\n",
              "    .dataframe tbody tr th:only-of-type {\n",
              "        vertical-align: middle;\n",
              "    }\n",
              "\n",
              "    .dataframe tbody tr th {\n",
              "        vertical-align: top;\n",
              "    }\n",
              "\n",
              "    .dataframe thead th {\n",
              "        text-align: right;\n",
              "    }\n",
              "</style>\n",
              "<table border=\"1\" class=\"dataframe\">\n",
              "  <thead>\n",
              "    <tr style=\"text-align: right;\">\n",
              "      <th></th>\n",
              "      <th>reviewerID</th>\n",
              "      <th>asin</th>\n",
              "      <th>reviewerName</th>\n",
              "      <th>helpful</th>\n",
              "      <th>reviewText</th>\n",
              "      <th>overall</th>\n",
              "      <th>summary</th>\n",
              "      <th>unixReviewTime</th>\n",
              "      <th>reviewTime</th>\n",
              "    </tr>\n",
              "  </thead>\n",
              "  <tbody>\n",
              "    <tr>\n",
              "      <th>0</th>\n",
              "      <td>A30TL5EWN6DFXT</td>\n",
              "      <td>120401325X</td>\n",
              "      <td>christina</td>\n",
              "      <td>[0, 0]</td>\n",
              "      <td>They look good and stick good! I just don't li...</td>\n",
              "      <td>4</td>\n",
              "      <td>Looks Good</td>\n",
              "      <td>1400630400</td>\n",
              "      <td>05 21, 2014</td>\n",
              "    </tr>\n",
              "    <tr>\n",
              "      <th>1</th>\n",
              "      <td>ASY55RVNIL0UD</td>\n",
              "      <td>120401325X</td>\n",
              "      <td>emily l.</td>\n",
              "      <td>[0, 0]</td>\n",
              "      <td>These stickers work like the review says they ...</td>\n",
              "      <td>5</td>\n",
              "      <td>Really great product.</td>\n",
              "      <td>1389657600</td>\n",
              "      <td>01 14, 2014</td>\n",
              "    </tr>\n",
              "    <tr>\n",
              "      <th>2</th>\n",
              "      <td>A2TMXE2AFO7ONB</td>\n",
              "      <td>120401325X</td>\n",
              "      <td>Erica</td>\n",
              "      <td>[0, 0]</td>\n",
              "      <td>These are awesome and make my phone look so st...</td>\n",
              "      <td>5</td>\n",
              "      <td>LOVE LOVE LOVE</td>\n",
              "      <td>1403740800</td>\n",
              "      <td>06 26, 2014</td>\n",
              "    </tr>\n",
              "    <tr>\n",
              "      <th>3</th>\n",
              "      <td>AWJ0WZQYMYFQ4</td>\n",
              "      <td>120401325X</td>\n",
              "      <td>JM</td>\n",
              "      <td>[4, 4]</td>\n",
              "      <td>Item arrived in great time and was in perfect ...</td>\n",
              "      <td>4</td>\n",
              "      <td>Cute!</td>\n",
              "      <td>1382313600</td>\n",
              "      <td>10 21, 2013</td>\n",
              "    </tr>\n",
              "    <tr>\n",
              "      <th>4</th>\n",
              "      <td>ATX7CZYFXI1KW</td>\n",
              "      <td>120401325X</td>\n",
              "      <td>patrice m rogoza</td>\n",
              "      <td>[2, 3]</td>\n",
              "      <td>awesome! stays on, and looks great. can be use...</td>\n",
              "      <td>5</td>\n",
              "      <td>leopard home button sticker for iphone 4s</td>\n",
              "      <td>1359849600</td>\n",
              "      <td>02 3, 2013</td>\n",
              "    </tr>\n",
              "    <tr>\n",
              "      <th>...</th>\n",
              "      <td>...</td>\n",
              "      <td>...</td>\n",
              "      <td>...</td>\n",
              "      <td>...</td>\n",
              "      <td>...</td>\n",
              "      <td>...</td>\n",
              "      <td>...</td>\n",
              "      <td>...</td>\n",
              "      <td>...</td>\n",
              "    </tr>\n",
              "    <tr>\n",
              "      <th>194434</th>\n",
              "      <td>A1YMNTFLNDYQ1F</td>\n",
              "      <td>B00LORXVUE</td>\n",
              "      <td>eyeused2loveher</td>\n",
              "      <td>[0, 0]</td>\n",
              "      <td>Works great just like my original one. I reall...</td>\n",
              "      <td>5</td>\n",
              "      <td>This works just perfect!</td>\n",
              "      <td>1405900800</td>\n",
              "      <td>07 21, 2014</td>\n",
              "    </tr>\n",
              "    <tr>\n",
              "      <th>194435</th>\n",
              "      <td>A15TX8B2L8B20S</td>\n",
              "      <td>B00LORXVUE</td>\n",
              "      <td>Jon Davidson</td>\n",
              "      <td>[0, 0]</td>\n",
              "      <td>Great product. Great packaging. High quality a...</td>\n",
              "      <td>5</td>\n",
              "      <td>Great replacement cable. Apple certified</td>\n",
              "      <td>1405900800</td>\n",
              "      <td>07 21, 2014</td>\n",
              "    </tr>\n",
              "    <tr>\n",
              "      <th>194436</th>\n",
              "      <td>A3JI7QRZO1QG8X</td>\n",
              "      <td>B00LORXVUE</td>\n",
              "      <td>Joyce M. Davidson</td>\n",
              "      <td>[0, 0]</td>\n",
              "      <td>This is a great cable, just as good as the mor...</td>\n",
              "      <td>5</td>\n",
              "      <td>Real quality</td>\n",
              "      <td>1405900800</td>\n",
              "      <td>07 21, 2014</td>\n",
              "    </tr>\n",
              "    <tr>\n",
              "      <th>194437</th>\n",
              "      <td>A1NHB2VC68YQNM</td>\n",
              "      <td>B00LORXVUE</td>\n",
              "      <td>Nurse Farrugia</td>\n",
              "      <td>[0, 0]</td>\n",
              "      <td>I really like it becasue it works well with my...</td>\n",
              "      <td>5</td>\n",
              "      <td>I really like it becasue it works well with my...</td>\n",
              "      <td>1405814400</td>\n",
              "      <td>07 20, 2014</td>\n",
              "    </tr>\n",
              "    <tr>\n",
              "      <th>194438</th>\n",
              "      <td>A1AG6U022WHXBF</td>\n",
              "      <td>B00LORXVUE</td>\n",
              "      <td>Trisha Crocker</td>\n",
              "      <td>[0, 0]</td>\n",
              "      <td>product as described, I have wasted a lot of m...</td>\n",
              "      <td>5</td>\n",
              "      <td>I have wasted a lot of money on cords</td>\n",
              "      <td>1405900800</td>\n",
              "      <td>07 21, 2014</td>\n",
              "    </tr>\n",
              "  </tbody>\n",
              "</table>\n",
              "<p>194439 rows × 9 columns</p>\n",
              "</div>\n",
              "    <div class=\"colab-df-buttons\">\n",
              "\n",
              "  <div class=\"colab-df-container\">\n",
              "    <button class=\"colab-df-convert\" onclick=\"convertToInteractive('df-93125236-cff2-452a-b2c4-dfd4be970553')\"\n",
              "            title=\"Convert this dataframe to an interactive table.\"\n",
              "            style=\"display:none;\">\n",
              "\n",
              "  <svg xmlns=\"http://www.w3.org/2000/svg\" height=\"24px\" viewBox=\"0 -960 960 960\">\n",
              "    <path d=\"M120-120v-720h720v720H120Zm60-500h600v-160H180v160Zm220 220h160v-160H400v160Zm0 220h160v-160H400v160ZM180-400h160v-160H180v160Zm440 0h160v-160H620v160ZM180-180h160v-160H180v160Zm440 0h160v-160H620v160Z\"/>\n",
              "  </svg>\n",
              "    </button>\n",
              "\n",
              "  <style>\n",
              "    .colab-df-container {\n",
              "      display:flex;\n",
              "      gap: 12px;\n",
              "    }\n",
              "\n",
              "    .colab-df-convert {\n",
              "      background-color: #E8F0FE;\n",
              "      border: none;\n",
              "      border-radius: 50%;\n",
              "      cursor: pointer;\n",
              "      display: none;\n",
              "      fill: #1967D2;\n",
              "      height: 32px;\n",
              "      padding: 0 0 0 0;\n",
              "      width: 32px;\n",
              "    }\n",
              "\n",
              "    .colab-df-convert:hover {\n",
              "      background-color: #E2EBFA;\n",
              "      box-shadow: 0px 1px 2px rgba(60, 64, 67, 0.3), 0px 1px 3px 1px rgba(60, 64, 67, 0.15);\n",
              "      fill: #174EA6;\n",
              "    }\n",
              "\n",
              "    .colab-df-buttons div {\n",
              "      margin-bottom: 4px;\n",
              "    }\n",
              "\n",
              "    [theme=dark] .colab-df-convert {\n",
              "      background-color: #3B4455;\n",
              "      fill: #D2E3FC;\n",
              "    }\n",
              "\n",
              "    [theme=dark] .colab-df-convert:hover {\n",
              "      background-color: #434B5C;\n",
              "      box-shadow: 0px 1px 3px 1px rgba(0, 0, 0, 0.15);\n",
              "      filter: drop-shadow(0px 1px 2px rgba(0, 0, 0, 0.3));\n",
              "      fill: #FFFFFF;\n",
              "    }\n",
              "  </style>\n",
              "\n",
              "    <script>\n",
              "      const buttonEl =\n",
              "        document.querySelector('#df-93125236-cff2-452a-b2c4-dfd4be970553 button.colab-df-convert');\n",
              "      buttonEl.style.display =\n",
              "        google.colab.kernel.accessAllowed ? 'block' : 'none';\n",
              "\n",
              "      async function convertToInteractive(key) {\n",
              "        const element = document.querySelector('#df-93125236-cff2-452a-b2c4-dfd4be970553');\n",
              "        const dataTable =\n",
              "          await google.colab.kernel.invokeFunction('convertToInteractive',\n",
              "                                                    [key], {});\n",
              "        if (!dataTable) return;\n",
              "\n",
              "        const docLinkHtml = 'Like what you see? Visit the ' +\n",
              "          '<a target=\"_blank\" href=https://colab.research.google.com/notebooks/data_table.ipynb>data table notebook</a>'\n",
              "          + ' to learn more about interactive tables.';\n",
              "        element.innerHTML = '';\n",
              "        dataTable['output_type'] = 'display_data';\n",
              "        await google.colab.output.renderOutput(dataTable, element);\n",
              "        const docLink = document.createElement('div');\n",
              "        docLink.innerHTML = docLinkHtml;\n",
              "        element.appendChild(docLink);\n",
              "      }\n",
              "    </script>\n",
              "  </div>\n",
              "\n",
              "\n",
              "<div id=\"df-777390d5-ddb6-48fc-9852-779a854564db\">\n",
              "  <button class=\"colab-df-quickchart\" onclick=\"quickchart('df-777390d5-ddb6-48fc-9852-779a854564db')\"\n",
              "            title=\"Suggest charts\"\n",
              "            style=\"display:none;\">\n",
              "\n",
              "<svg xmlns=\"http://www.w3.org/2000/svg\" height=\"24px\"viewBox=\"0 0 24 24\"\n",
              "     width=\"24px\">\n",
              "    <g>\n",
              "        <path d=\"M19 3H5c-1.1 0-2 .9-2 2v14c0 1.1.9 2 2 2h14c1.1 0 2-.9 2-2V5c0-1.1-.9-2-2-2zM9 17H7v-7h2v7zm4 0h-2V7h2v10zm4 0h-2v-4h2v4z\"/>\n",
              "    </g>\n",
              "</svg>\n",
              "  </button>\n",
              "\n",
              "<style>\n",
              "  .colab-df-quickchart {\n",
              "      --bg-color: #E8F0FE;\n",
              "      --fill-color: #1967D2;\n",
              "      --hover-bg-color: #E2EBFA;\n",
              "      --hover-fill-color: #174EA6;\n",
              "      --disabled-fill-color: #AAA;\n",
              "      --disabled-bg-color: #DDD;\n",
              "  }\n",
              "\n",
              "  [theme=dark] .colab-df-quickchart {\n",
              "      --bg-color: #3B4455;\n",
              "      --fill-color: #D2E3FC;\n",
              "      --hover-bg-color: #434B5C;\n",
              "      --hover-fill-color: #FFFFFF;\n",
              "      --disabled-bg-color: #3B4455;\n",
              "      --disabled-fill-color: #666;\n",
              "  }\n",
              "\n",
              "  .colab-df-quickchart {\n",
              "    background-color: var(--bg-color);\n",
              "    border: none;\n",
              "    border-radius: 50%;\n",
              "    cursor: pointer;\n",
              "    display: none;\n",
              "    fill: var(--fill-color);\n",
              "    height: 32px;\n",
              "    padding: 0;\n",
              "    width: 32px;\n",
              "  }\n",
              "\n",
              "  .colab-df-quickchart:hover {\n",
              "    background-color: var(--hover-bg-color);\n",
              "    box-shadow: 0 1px 2px rgba(60, 64, 67, 0.3), 0 1px 3px 1px rgba(60, 64, 67, 0.15);\n",
              "    fill: var(--button-hover-fill-color);\n",
              "  }\n",
              "\n",
              "  .colab-df-quickchart-complete:disabled,\n",
              "  .colab-df-quickchart-complete:disabled:hover {\n",
              "    background-color: var(--disabled-bg-color);\n",
              "    fill: var(--disabled-fill-color);\n",
              "    box-shadow: none;\n",
              "  }\n",
              "\n",
              "  .colab-df-spinner {\n",
              "    border: 2px solid var(--fill-color);\n",
              "    border-color: transparent;\n",
              "    border-bottom-color: var(--fill-color);\n",
              "    animation:\n",
              "      spin 1s steps(1) infinite;\n",
              "  }\n",
              "\n",
              "  @keyframes spin {\n",
              "    0% {\n",
              "      border-color: transparent;\n",
              "      border-bottom-color: var(--fill-color);\n",
              "      border-left-color: var(--fill-color);\n",
              "    }\n",
              "    20% {\n",
              "      border-color: transparent;\n",
              "      border-left-color: var(--fill-color);\n",
              "      border-top-color: var(--fill-color);\n",
              "    }\n",
              "    30% {\n",
              "      border-color: transparent;\n",
              "      border-left-color: var(--fill-color);\n",
              "      border-top-color: var(--fill-color);\n",
              "      border-right-color: var(--fill-color);\n",
              "    }\n",
              "    40% {\n",
              "      border-color: transparent;\n",
              "      border-right-color: var(--fill-color);\n",
              "      border-top-color: var(--fill-color);\n",
              "    }\n",
              "    60% {\n",
              "      border-color: transparent;\n",
              "      border-right-color: var(--fill-color);\n",
              "    }\n",
              "    80% {\n",
              "      border-color: transparent;\n",
              "      border-right-color: var(--fill-color);\n",
              "      border-bottom-color: var(--fill-color);\n",
              "    }\n",
              "    90% {\n",
              "      border-color: transparent;\n",
              "      border-bottom-color: var(--fill-color);\n",
              "    }\n",
              "  }\n",
              "</style>\n",
              "\n",
              "  <script>\n",
              "    async function quickchart(key) {\n",
              "      const quickchartButtonEl =\n",
              "        document.querySelector('#' + key + ' button');\n",
              "      quickchartButtonEl.disabled = true;  // To prevent multiple clicks.\n",
              "      quickchartButtonEl.classList.add('colab-df-spinner');\n",
              "      try {\n",
              "        const charts = await google.colab.kernel.invokeFunction(\n",
              "            'suggestCharts', [key], {});\n",
              "      } catch (error) {\n",
              "        console.error('Error during call to suggestCharts:', error);\n",
              "      }\n",
              "      quickchartButtonEl.classList.remove('colab-df-spinner');\n",
              "      quickchartButtonEl.classList.add('colab-df-quickchart-complete');\n",
              "    }\n",
              "    (() => {\n",
              "      let quickchartButtonEl =\n",
              "        document.querySelector('#df-777390d5-ddb6-48fc-9852-779a854564db button');\n",
              "      quickchartButtonEl.style.display =\n",
              "        google.colab.kernel.accessAllowed ? 'block' : 'none';\n",
              "    })();\n",
              "  </script>\n",
              "</div>\n",
              "    </div>\n",
              "  </div>\n"
            ]
          },
          "metadata": {},
          "execution_count": 20
        }
      ]
    },
    {
      "cell_type": "code",
      "source": [
        "review_text = df.reviewText.apply(gensim.utils.simple_preprocess)\n"
      ],
      "metadata": {
        "id": "pYa45nf4WwtZ"
      },
      "execution_count": 21,
      "outputs": []
    },
    {
      "cell_type": "code",
      "source": [
        "review_text"
      ],
      "metadata": {
        "colab": {
          "base_uri": "https://localhost:8080/"
        },
        "id": "nYrhfr6xcl2J",
        "outputId": "9e749e2e-878c-4747-f8ab-699d27fbfa57"
      },
      "execution_count": 22,
      "outputs": [
        {
          "output_type": "execute_result",
          "data": {
            "text/plain": [
              "0         [they, look, good, and, stick, good, just, don...\n",
              "1         [these, stickers, work, like, the, review, say...\n",
              "2         [these, are, awesome, and, make, my, phone, lo...\n",
              "3         [item, arrived, in, great, time, and, was, in,...\n",
              "4         [awesome, stays, on, and, looks, great, can, b...\n",
              "                                ...                        \n",
              "194434    [works, great, just, like, my, original, one, ...\n",
              "194435    [great, product, great, packaging, high, quali...\n",
              "194436    [this, is, great, cable, just, as, good, as, t...\n",
              "194437    [really, like, it, becasue, it, works, well, w...\n",
              "194438    [product, as, described, have, wasted, lot, of...\n",
              "Name: reviewText, Length: 194439, dtype: object"
            ]
          },
          "metadata": {},
          "execution_count": 22
        }
      ]
    },
    {
      "cell_type": "code",
      "source": [
        "review_text.loc[0]\n"
      ],
      "metadata": {
        "colab": {
          "base_uri": "https://localhost:8080/"
        },
        "id": "b056OXvUcx34",
        "outputId": "4c0e1f3c-1315-4b28-bebc-39736aa9b1ae"
      },
      "execution_count": 23,
      "outputs": [
        {
          "output_type": "execute_result",
          "data": {
            "text/plain": [
              "['they',\n",
              " 'look',\n",
              " 'good',\n",
              " 'and',\n",
              " 'stick',\n",
              " 'good',\n",
              " 'just',\n",
              " 'don',\n",
              " 'like',\n",
              " 'the',\n",
              " 'rounded',\n",
              " 'shape',\n",
              " 'because',\n",
              " 'was',\n",
              " 'always',\n",
              " 'bumping',\n",
              " 'it',\n",
              " 'and',\n",
              " 'siri',\n",
              " 'kept',\n",
              " 'popping',\n",
              " 'up',\n",
              " 'and',\n",
              " 'it',\n",
              " 'was',\n",
              " 'irritating',\n",
              " 'just',\n",
              " 'won',\n",
              " 'buy',\n",
              " 'product',\n",
              " 'like',\n",
              " 'this',\n",
              " 'again']"
            ]
          },
          "metadata": {},
          "execution_count": 23
        }
      ]
    },
    {
      "cell_type": "markdown",
      "source": [
        "Training the Word2Vec Model\n",
        "Train the model for reviews. Use a window of size 10 i.e. 10 words before the present word and 10 words ahead. A sentence with at least 2 words should only be considered, configure this using min_count parameter.\n",
        "\n",
        "Workers define how many CPU threads to be used."
      ],
      "metadata": {
        "id": "TsWjrOBtc0YS"
      }
    },
    {
      "cell_type": "code",
      "source": [
        "# Initialize the model\n",
        "model = gensim.models.Word2Vec(\n",
        "    window=10,\n",
        "    min_count=2,\n",
        "    workers=4,\n",
        ")"
      ],
      "metadata": {
        "id": "DZJiJuq8c1JP"
      },
      "execution_count": 24,
      "outputs": []
    },
    {
      "cell_type": "code",
      "source": [
        "# Build Vocabulary\n",
        "model.build_vocab(review_text, progress_per=1000)"
      ],
      "metadata": {
        "id": "kStW71upc3M4"
      },
      "execution_count": 25,
      "outputs": []
    },
    {
      "cell_type": "code",
      "source": [
        "# Train the Word2Vec Model\n",
        "model.train(review_text, total_examples=model.corpus_count, epochs=model.epochs)"
      ],
      "metadata": {
        "colab": {
          "base_uri": "https://localhost:8080/"
        },
        "id": "O3B4mpKnc5mV",
        "outputId": "9e8c39ef-8310-4e6a-ebbc-28aa8d6e38b1"
      },
      "execution_count": 26,
      "outputs": [
        {
          "output_type": "execute_result",
          "data": {
            "text/plain": [
              "(61509250, 83868975)"
            ]
          },
          "metadata": {},
          "execution_count": 26
        }
      ]
    },
    {
      "cell_type": "code",
      "source": [
        "model.save(\"./word2vec-amazon-cell-accessories-reviews-short.model\")"
      ],
      "metadata": {
        "id": "x5aHJmucc7mR"
      },
      "execution_count": 27,
      "outputs": []
    },
    {
      "cell_type": "code",
      "source": [
        "# Finding Similar Words and Similarity between words\n",
        "model.wv.most_similar(\"bad\")\n"
      ],
      "metadata": {
        "colab": {
          "base_uri": "https://localhost:8080/"
        },
        "id": "QWqWRX3UdT5I",
        "outputId": "355070e0-9b23-43d8-a31e-c6c592569043"
      },
      "execution_count": 28,
      "outputs": [
        {
          "output_type": "execute_result",
          "data": {
            "text/plain": [
              "[('terrible', 0.6920978426933289),\n",
              " ('shabby', 0.6475433707237244),\n",
              " ('horrible', 0.622093141078949),\n",
              " ('good', 0.562190592288971),\n",
              " ('awful', 0.5490614771842957),\n",
              " ('okay', 0.5407091379165649),\n",
              " ('poor', 0.5308719873428345),\n",
              " ('crappy', 0.5299108028411865),\n",
              " ('ridiculous', 0.5251402258872986),\n",
              " ('lame', 0.5160020589828491)]"
            ]
          },
          "metadata": {},
          "execution_count": 28
        }
      ]
    },
    {
      "cell_type": "code",
      "source": [
        "model.wv.similarity(w1=\"cheap\", w2=\"inexpensive\")"
      ],
      "metadata": {
        "colab": {
          "base_uri": "https://localhost:8080/"
        },
        "id": "qSwiGKq9dYmm",
        "outputId": "7a5ad852-4c94-4f87-e3c0-ec82a571f1b4"
      },
      "execution_count": 29,
      "outputs": [
        {
          "output_type": "execute_result",
          "data": {
            "text/plain": [
              "0.50083894"
            ]
          },
          "metadata": {},
          "execution_count": 29
        }
      ]
    },
    {
      "cell_type": "code",
      "source": [
        "model.wv.similarity(w1=\"great\", w2=\"good\")"
      ],
      "metadata": {
        "colab": {
          "base_uri": "https://localhost:8080/"
        },
        "id": "aOt7TLaUdbMd",
        "outputId": "be672d3f-37f3-4333-f9ef-9fabc8785f08"
      },
      "execution_count": 30,
      "outputs": [
        {
          "output_type": "execute_result",
          "data": {
            "text/plain": [
              "0.78294927"
            ]
          },
          "metadata": {},
          "execution_count": 30
        }
      ]
    },
    {
      "cell_type": "markdown",
      "source": [
        "### LLM Application Architecture\n",
        "\n",
        "At a high level, vector databases rely on embedding models for handling both the creation and querying of embeddings. On the ingestion path, the corpus content is encoded into vectors using the embedding model and stored in vector databases like Pinecone, ChromaDB, Weaviate, etc. On the read path, the application makes a query using sentences or words, and it is again encoded by the embedding model into a vector that is then queried into the vector db to fetch the results.\n",
        "\n",
        "![image.png](data:image/png;base64,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)\n"
      ],
      "metadata": {
        "id": "STqSGbUwtWFa"
      }
    },
    {
      "cell_type": "markdown",
      "source": [
        "LLM helps in language tasks and is embedded into a broader class of models, such as Generative AI that can generate images and videos apart from just text. In this section, we will learn how to build practical LLM/Generative AI applications using vector databases. I used transformers and torch libs for language models and pinecone as a vector database. You can choose any language model for LLM/embeddings and any vector database for storage and searching."
      ],
      "metadata": {
        "id": "ZUoYDfbvxqsG"
      }
    },
    {
      "cell_type": "markdown",
      "source": [
        "### Building a Chatbot App\n"
      ],
      "metadata": {
        "id": "qj8Dx4qlxrli"
      }
    },
    {
      "cell_type": "code",
      "source": [
        "import faiss\n",
        "from transformers import AutoTokenizer, AutoModel\n",
        "import torch"
      ],
      "metadata": {
        "id": "iwXhzkAJ6Rrz"
      },
      "execution_count": 51,
      "outputs": []
    },
    {
      "cell_type": "code",
      "source": [
        "tokenizer = AutoTokenizer.from_pretrained(\"bert-base-uncased\")\n",
        "model = AutoModel.from_pretrained(\"bert-base-uncased\")"
      ],
      "metadata": {
        "colab": {
          "base_uri": "https://localhost:8080/",
          "height": 177,
          "referenced_widgets": [
            "8d67b4a5915b4d2eb0ec919509712e00",
            "a704f572dae247d7b58976ce0b64eae6",
            "6f3cf39345c04c8c8c74a671936a1424",
            "a992abfb208b4ca9b5bfc5aada8511c8",
            "3fc08b8d33d8401b8555b45f905a6f33",
            "3b7fe87a31fb4f4dbe08e18579084f36",
            "98f66a54b4484b46a1c3cf95d9bbbb21",
            "aeed130b979e46b088c87ccdf28d42fe",
            "52f41f2402de4c3b846ca53113921073",
            "45bd731d326b4a9b9b46a30d5fe097e3",
            "f63c6edef97b46e49b8f42307b0af70b",
            "7ac113db6ee54cc8b748caad9e17d769",
            "7ba8a566e06f438e9690fd31e1ad3272",
            "3f2b106e66db46c88a6ff14cdaf2fafb",
            "0b97084d9d4a409297206b6486ce4d90",
            "a24436c998354cb990a0d80522eb81c5",
            "866b9a982ac74710a58bf338357834c5",
            "2ce8d10ef2eb4e5dbf6eddabde31799c",
            "92a98069e5784b418bed885357e92071",
            "6657b7d81b21409e95a2cce53bb70c91",
            "4b8fb67313704812986b32bf3ecfd2b9",
            "9686c786926f49f99f86651e0d47f558",
            "a7bc63220b974fcdb048d9442d0db7f6",
            "9e13c89d5c534055b7d9952484c5d679",
            "552dfafc02ab410a9f9abff684f0e72a",
            "7dd31da34fed484586e4a049a0b7c10a",
            "e9c3208fc63a4b5f8dea97cef3136823",
            "99afe139305e4dbfb1a0ec109f127595",
            "efa33a33ec1f4ffc94042d56061c3e9f",
            "cd87c9f96deb49e9883fb1213ac7e37a",
            "319bc8885c3e48af888f5b469dc1b62f",
            "139ffc8051994ed2bf952d59f750eed4",
            "3402b3c30c8c4d35b88dfdbd18516f0b",
            "2c4c7f2742ab42c38bda421773af3a11",
            "956fe7ce88f94b8997d22750e1ed5401",
            "3efab27e6e0248fd8a13728c13d90cdc",
            "05c2b866b80f4ebd91cb27f7c102be2c",
            "dd1912aac31341798cbc27010a00cf0c",
            "170f6382d7244819b67623b076a6fda3",
            "0f333ef1106c4c42a7ddcda62a446698",
            "a655664afe724566817475ed91aa67e0",
            "3efb3a36c83046cf9611b5540f61a9c3",
            "116029df4d274a1793102d932104918b",
            "055703abc7494805a749f197a175a742",
            "08d58af8adb244e89fbff2632820af57",
            "49a56eec376441c498474eb7350d56d4",
            "8337df5b2cdb45009a56bfb9fc7cd7b8",
            "5abfd5a3b8bb4b7599f72dab553ec8dd",
            "2c3b566f94734a968a188a53444453b2",
            "2f9896b8ea074d9792d6f52e1d7fab57",
            "cfe625d101514ae7888d392afd648ef1",
            "c372fded3d31498b9a2a62c8d1e34db0",
            "deec3327d6fa4d1db7df366702249fce",
            "4daa0004d08046f79731ef81ad2430bb",
            "11504ae91cb544679e764b35fbf18ff8"
          ]
        },
        "id": "jcZjjbzw6U6O",
        "outputId": "2c30e164-0d74-4e4f-b0b2-70bd562f5a5a"
      },
      "execution_count": 52,
      "outputs": [
        {
          "output_type": "display_data",
          "data": {
            "text/plain": [
              "tokenizer_config.json:   0%|          | 0.00/28.0 [00:00<?, ?B/s]"
            ],
            "application/vnd.jupyter.widget-view+json": {
              "version_major": 2,
              "version_minor": 0,
              "model_id": "8d67b4a5915b4d2eb0ec919509712e00"
            }
          },
          "metadata": {}
        },
        {
          "output_type": "display_data",
          "data": {
            "text/plain": [
              "config.json:   0%|          | 0.00/570 [00:00<?, ?B/s]"
            ],
            "application/vnd.jupyter.widget-view+json": {
              "version_major": 2,
              "version_minor": 0,
              "model_id": "7ac113db6ee54cc8b748caad9e17d769"
            }
          },
          "metadata": {}
        },
        {
          "output_type": "display_data",
          "data": {
            "text/plain": [
              "vocab.txt:   0%|          | 0.00/232k [00:00<?, ?B/s]"
            ],
            "application/vnd.jupyter.widget-view+json": {
              "version_major": 2,
              "version_minor": 0,
              "model_id": "a7bc63220b974fcdb048d9442d0db7f6"
            }
          },
          "metadata": {}
        },
        {
          "output_type": "display_data",
          "data": {
            "text/plain": [
              "tokenizer.json:   0%|          | 0.00/466k [00:00<?, ?B/s]"
            ],
            "application/vnd.jupyter.widget-view+json": {
              "version_major": 2,
              "version_minor": 0,
              "model_id": "2c4c7f2742ab42c38bda421773af3a11"
            }
          },
          "metadata": {}
        },
        {
          "output_type": "display_data",
          "data": {
            "text/plain": [
              "model.safetensors:   0%|          | 0.00/440M [00:00<?, ?B/s]"
            ],
            "application/vnd.jupyter.widget-view+json": {
              "version_major": 2,
              "version_minor": 0,
              "model_id": "08d58af8adb244e89fbff2632820af57"
            }
          },
          "metadata": {}
        }
      ]
    },
    {
      "cell_type": "code",
      "source": [
        "def text_to_vector(text):\n",
        "    tokens = tokenizer(text, return_tensors=\"pt\")\n",
        "    with torch.no_grad():\n",
        "        outputs = model(**tokens)\n",
        "    vector = torch.mean(outputs.last_hidden_state, dim=1).squeeze().numpy()\n",
        "    return vector"
      ],
      "metadata": {
        "id": "nF-Yp0TB6ee3"
      },
      "execution_count": 53,
      "outputs": []
    },
    {
      "cell_type": "code",
      "source": [
        "class VectorDatabase:\n",
        "    def __init__(self, vectors):\n",
        "        self.dimension = len(vectors[0])\n",
        "        self.vectors = np.array(vectors).astype('float32')\n",
        "        self.index = faiss.IndexFlatL2(self.dimension)\n",
        "        self.index.add(self.vectors)\n",
        "\n",
        "    def search(self, query_vector, k=1):\n",
        "        query_vector = np.array(query_vector).astype('float32')\n",
        "        distances, indices = self.index.search(np.array([query_vector]), k)\n",
        "        return indices[0]\n"
      ],
      "metadata": {
        "id": "CkwCxjrU6kUA"
      },
      "execution_count": 54,
      "outputs": []
    },
    {
      "cell_type": "code",
      "source": [
        "class SimpleChatBot:\n",
        "    def __init__(self, vector_database):\n",
        "        self.vector_database = vector_database\n",
        "\n",
        "    def get_response(self, user_query):\n",
        "        # Convert user query to vector\n",
        "        query_vector = text_to_vector(user_query)\n",
        "\n",
        "        # Search for the most similar response\n",
        "        similar_response_index = self.vector_database.search(query_vector)\n",
        "\n",
        "        # Get the response corresponding to the most similar vector\n",
        "        response = f\"Bot: Placeholder response for index {similar_response_index}\"\n",
        "\n",
        "        return response"
      ],
      "metadata": {
        "id": "hOylNkDJ6pJT"
      },
      "execution_count": 55,
      "outputs": []
    },
    {
      "cell_type": "code",
      "source": [
        "# Example vectors for the vector database\n",
        "response_vectors = [\n",
        "    text_to_vector(\"Hello, how can I help you?\"),\n",
        "    text_to_vector(\"I'm sorry, I don't understand.\"),\n",
        "    text_to_vector(\"Thank you for chatting with me!\"),\n",
        "]\n",
        "\n",
        "# Create a vector database\n",
        "vector_db = VectorDatabase(response_vectors)\n",
        "\n",
        "# Create a chat bot with the vector database\n",
        "chat_bot = SimpleChatBot(vector_db)\n",
        "\n",
        "# User query\n",
        "user_query = \"Tell me about your services.\"\n",
        "\n",
        "# Get the bot's response\n",
        "bot_response = chat_bot.get_response(user_query)\n",
        "\n",
        "# Print the response\n",
        "print(bot_response)\n"
      ],
      "metadata": {
        "colab": {
          "base_uri": "https://localhost:8080/"
        },
        "id": "WmLBVcJs6q6G",
        "outputId": "9d5bcf03-f700-4632-f274-1549af87d8b2"
      },
      "execution_count": 56,
      "outputs": [
        {
          "output_type": "stream",
          "name": "stdout",
          "text": [
            "Bot: Placeholder response for index [2]\n"
          ]
        }
      ]
    }
  ]
}